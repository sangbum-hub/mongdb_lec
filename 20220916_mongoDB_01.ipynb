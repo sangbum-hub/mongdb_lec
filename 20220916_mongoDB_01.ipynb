{
 "cells": [
  {
   "cell_type": "code",
   "execution_count": null,
   "id": "1bbb10dc",
   "metadata": {},
   "outputs": [],
   "source": [
    "from bs4 import BeautifulSoup\n",
    "import requests\n",
    "import pymongo\n",
    "import re"
   ]
  },
  {
   "cell_type": "code",
   "execution_count": null,
   "id": "ff3518b4",
   "metadata": {},
   "outputs": [],
   "source": [
    "conn = pymongo.MongoClient()\n",
    "cine = conn.cine\n",
    "collection_cine2 = cine.collection_cine2"
   ]
  },
  {
   "cell_type": "code",
   "execution_count": null,
   "id": "6780c59a",
   "metadata": {},
   "outputs": [],
   "source": [
    "collection_cine2.find_one()"
   ]
  },
  {
   "cell_type": "markdown",
   "id": "c02bca6e",
   "metadata": {},
   "source": [
    "### index\n",
    "- 검색 속도를 향상시키기 위해서 사용하는 데이터 구조\n",
    "- index 를 사용하지 않으면 collection 에 있는 document 를 \n",
    "- 하나씩 조회하는 방식으로 검색함"
   ]
  },
  {
   "cell_type": "markdown",
   "id": "42c4d8a3",
   "metadata": {},
   "source": [
    "### 기본 index\n",
    "- MongDB 의 collection 은 기본적으로 _id key 기반으로 index 가 생성됨\n",
    "  -  Single Field index (단일 필드 index)\n",
    "  -  Compound Field index (복합 필드 index)"
   ]
  },
  {
   "cell_type": "code",
   "execution_count": null,
   "id": "a7033a82",
   "metadata": {},
   "outputs": [],
   "source": [
    "'''\n",
    "단일 필드 index : 하나의 field 로 index 를 생성함\n",
    " <-- 컬렉션이름.create_index(key(field))\n",
    "'''\n",
    "collection_cine2.create_index(\"배우 이름\")"
   ]
  },
  {
   "cell_type": "code",
   "execution_count": null,
   "id": "401ab743",
   "metadata": {},
   "outputs": [],
   "source": [
    "'''\n",
    "index 의 기본 정보 조회하기\n",
    "  <-- 컬렉션이름.index_information()\n",
    "'''\n",
    "collection_cine2.index_information()"
   ]
  },
  {
   "cell_type": "markdown",
   "id": "534ddf59",
   "metadata": {},
   "source": [
    "- key(\"필드이름\", direction)\n",
    "  -  direction\n",
    "    -  pymongo.ASCENDING = 1 : 오름차순 (default)\n",
    "    -  pymongo.DESCENDING = -1 : 내림차순\n",
    "    -  pymongo.TEXT = \"text\" : text 검색을 쉽게 할 수 있도록 함"
   ]
  },
  {
   "cell_type": "markdown",
   "id": "c6a1b901",
   "metadata": {},
   "source": [
    "### index 삭제하기\n",
    "- 전체 index 삭제\n",
    "- 컬렉션이름.drop_indexes()\n",
    "-  ㄴ 기본 index 이외의 모든 index 가 삭제됨"
   ]
  },
  {
   "cell_type": "code",
   "execution_count": null,
   "id": "a1803062",
   "metadata": {},
   "outputs": [],
   "source": [
    "collection_cine2.drop_indexes()"
   ]
  },
  {
   "cell_type": "code",
   "execution_count": null,
   "id": "76f97cbd",
   "metadata": {},
   "outputs": [],
   "source": [
    "collection_cine2.index_information()"
   ]
  },
  {
   "cell_type": "markdown",
   "id": "6ced98e4",
   "metadata": {},
   "source": [
    "- 특정 index 삭제하기\n",
    "- 컬렉션이름.drop_index([('필드명',1)])"
   ]
  },
  {
   "cell_type": "code",
   "execution_count": null,
   "id": "0029f710",
   "metadata": {},
   "outputs": [],
   "source": [
    "collection_cine2.create_index(\"배우 이름\")\n",
    "collection_cine2.create_index(\"랭킹\")\n",
    "collection_cine2.create_index(\"흥행지수\")"
   ]
  },
  {
   "cell_type": "code",
   "execution_count": null,
   "id": "4117de20",
   "metadata": {},
   "outputs": [],
   "source": [
    "collection_cine2.index_information()"
   ]
  },
  {
   "cell_type": "code",
   "execution_count": null,
   "id": "feaae48e",
   "metadata": {},
   "outputs": [],
   "source": [
    "'''\n",
    "\"직업\" key(field) 로 index 를 생성하면서\n",
    "DESCENDING 으로 설정하기\n",
    "'''\n",
    "collection_cine2.create_index([(\"직업\", pymongo.DESCENDING)])"
   ]
  },
  {
   "cell_type": "code",
   "execution_count": null,
   "id": "76fb76dd",
   "metadata": {},
   "outputs": [],
   "source": [
    "collection_cine2.index_information()"
   ]
  },
  {
   "cell_type": "code",
   "execution_count": null,
   "id": "4a521fc0",
   "metadata": {},
   "outputs": [],
   "source": [
    "collection_cine2.create_index([(\"출연영화\", \"text\")])"
   ]
  },
  {
   "cell_type": "code",
   "execution_count": null,
   "id": "cbf5baef",
   "metadata": {},
   "outputs": [],
   "source": [
    "collection_cine2.index_information()"
   ]
  },
  {
   "cell_type": "code",
   "execution_count": null,
   "id": "d347df31",
   "metadata": {},
   "outputs": [],
   "source": [
    "collection_cine2.drop_indexes()"
   ]
  },
  {
   "cell_type": "code",
   "execution_count": null,
   "id": "3aaff859",
   "metadata": {},
   "outputs": [],
   "source": [
    "collection_cine2.index_information()"
   ]
  },
  {
   "cell_type": "code",
   "execution_count": null,
   "id": "54b110d6",
   "metadata": {},
   "outputs": [],
   "source": [
    "collection_cine2.create_index(\"배우 이름\")"
   ]
  },
  {
   "cell_type": "code",
   "execution_count": null,
   "id": "3f26f791",
   "metadata": {},
   "outputs": [],
   "source": [
    "documents = \\\n",
    "  collection_cine2.find({\"배우 이름\":\"김윤석\"}, {\"배우 이름\":1, \"출연영화\":1, \"_id\":0})\n",
    "\n",
    "for document in documents:\n",
    "    print(document)"
   ]
  },
  {
   "cell_type": "code",
   "execution_count": null,
   "id": "8f23c3c1",
   "metadata": {},
   "outputs": [],
   "source": [
    "import pprint\n",
    "\n",
    "documents = \\\n",
    "  collection_cine2.find({\"배우 이름\":\"김윤석\"})\n",
    "\n",
    "for document in documents:\n",
    "    pprint.pprint(document)"
   ]
  },
  {
   "cell_type": "code",
   "execution_count": null,
   "id": "f148ee68",
   "metadata": {},
   "outputs": [],
   "source": [
    "collection_cine2.index_information()"
   ]
  },
  {
   "cell_type": "code",
   "execution_count": null,
   "id": "f6f62028",
   "metadata": {},
   "outputs": [],
   "source": [
    "collection_cine2.create_index([(\"직업\", \"text\")])"
   ]
  },
  {
   "cell_type": "code",
   "execution_count": null,
   "id": "e0ef016f",
   "metadata": {},
   "outputs": [],
   "source": [
    "collection_cine2.index_information()"
   ]
  },
  {
   "cell_type": "code",
   "execution_count": null,
   "id": "4028236d",
   "metadata": {},
   "outputs": [],
   "source": [
    "documents = collection_cine2.find({\"$text\":{\"$search\":\"가수\"}})\n",
    "\n",
    "for document in documents:\n",
    "    pprint.pprint(document)"
   ]
  },
  {
   "cell_type": "code",
   "execution_count": null,
   "id": "53413b60",
   "metadata": {},
   "outputs": [],
   "source": [
    "collection_cine2.index_information()"
   ]
  },
  {
   "cell_type": "code",
   "execution_count": null,
   "id": "11726603",
   "metadata": {},
   "outputs": [],
   "source": [
    "collection_cine2.drop_index([(\"배우 이름\", 1)])"
   ]
  },
  {
   "cell_type": "code",
   "execution_count": null,
   "id": "1f96b821",
   "metadata": {},
   "outputs": [],
   "source": [
    "collection_cine2.index_information()"
   ]
  },
  {
   "cell_type": "code",
   "execution_count": null,
   "id": "e86a5e49",
   "metadata": {},
   "outputs": [],
   "source": [
    "collection_cine2.drop_index([(\"직업\", \"text\")])"
   ]
  },
  {
   "cell_type": "code",
   "execution_count": null,
   "id": "cc6ba5f0",
   "metadata": {},
   "outputs": [],
   "source": [
    "collection_cine2.index_information()"
   ]
  },
  {
   "cell_type": "code",
   "execution_count": null,
   "id": "865f8292",
   "metadata": {},
   "outputs": [],
   "source": [
    "collection_cine2.create_index([(\"배우 이름\", \"text\")])\n"
   ]
  },
  {
   "cell_type": "code",
   "execution_count": null,
   "id": "5757e591",
   "metadata": {},
   "outputs": [],
   "source": [
    "collection_cine2.create_index([(\"출연영화\", 1)])"
   ]
  },
  {
   "cell_type": "code",
   "execution_count": null,
   "id": "1eda8c79",
   "metadata": {},
   "outputs": [],
   "source": [
    "collection_cine2.drop_index([(\"출연영화\", 1)])"
   ]
  },
  {
   "cell_type": "code",
   "execution_count": null,
   "id": "6d7c1dc8",
   "metadata": {
    "scrolled": true
   },
   "outputs": [],
   "source": [
    "collection_cine2.index_information()"
   ]
  },
  {
   "cell_type": "code",
   "execution_count": null,
   "id": "c61bfd29",
   "metadata": {},
   "outputs": [],
   "source": [
    "collection_cine2.index_information()"
   ]
  },
  {
   "cell_type": "code",
   "execution_count": null,
   "id": "6b561871",
   "metadata": {},
   "outputs": [],
   "source": [
    "documents = collection_cine2.find({\"$text\" : {\"$search\":\"박해일\"}})\n",
    "for document in documents:\n",
    "    pprint.pprint(document)"
   ]
  },
  {
   "cell_type": "code",
   "execution_count": null,
   "id": "07a2a255",
   "metadata": {
    "scrolled": true
   },
   "outputs": [],
   "source": [
    "documents = collection_cine2.find({\"$text\" : {\"$search\":\"김윤석\"}})\n",
    "for document in documents:\n",
    "    pprint.pprint(document)"
   ]
  },
  {
   "cell_type": "markdown",
   "id": "e68eab48",
   "metadata": {},
   "source": [
    "-  Compound Field index (복합 필드 index)\n",
    "  - 최대 31 개의 필드로 index 를 생성할 수 있음\n",
    "  - 여러 개의 필드를 하나의 index 로 지정함"
   ]
  },
  {
   "cell_type": "code",
   "execution_count": null,
   "id": "6aec8990",
   "metadata": {},
   "outputs": [],
   "source": [
    "collection_cine2.drop_indexes()"
   ]
  },
  {
   "cell_type": "code",
   "execution_count": null,
   "id": "ebe004ea",
   "metadata": {},
   "outputs": [],
   "source": [
    "'''\n",
    "복합 필드 인덱스 생성하기\n",
    "'''\n",
    "collection_cine2.create_index(\n",
    "                                 [(\"출연영화\",pymongo.TEXT), (\"직업\", pymongo.TEXT),(\"흥행지수\", pymongo.DESCENDING)]                                 \n",
    "                             )"
   ]
  },
  {
   "cell_type": "code",
   "execution_count": null,
   "id": "f50294ce",
   "metadata": {},
   "outputs": [],
   "source": [
    "collection_cine2.index_information()"
   ]
  },
  {
   "cell_type": "markdown",
   "id": "26da46bb",
   "metadata": {},
   "source": [
    "### 복합 필드 인덱스로 부분문자열 검색(조회)하기"
   ]
  },
  {
   "cell_type": "code",
   "execution_count": null,
   "id": "eac2d4a1",
   "metadata": {},
   "outputs": [],
   "source": [
    "for document in collection_cine2.find({\"$text\":{\"$search\":\"가수\"}}):\n",
    "    pprint.pprint(document)"
   ]
  },
  {
   "cell_type": "code",
   "execution_count": null,
   "id": "9a126469",
   "metadata": {},
   "outputs": [],
   "source": [
    "for document in collection_cine2.find({\"$text\":{\"$search\":\"모가디슈\"}}):\n",
    "    pprint.pprint(document)"
   ]
  },
  {
   "cell_type": "markdown",
   "id": "3f9d4293",
   "metadata": {},
   "source": [
    "### 정규표현식(Regular Expression) 을 사용해서 부분문자열 검색하기"
   ]
  },
  {
   "cell_type": "code",
   "execution_count": null,
   "id": "7831e686",
   "metadata": {},
   "outputs": [],
   "source": [
    "'''\n",
    "출연영화에 \"함께\"라는 문자열이 있는 document 조회하기\n",
    "'''\n",
    "for document in collection_cine2.find({\"출연영화\":{\"$regex\":\"함께\"}}):\n",
    "    pprint.pprint(document)"
   ]
  },
  {
   "cell_type": "code",
   "execution_count": null,
   "id": "873b8a3a",
   "metadata": {},
   "outputs": [],
   "source": [
    "'''\n",
    "출연영화에 \"국가\"라는 문자열이 있는 document 조회하기\n",
    "'''\n",
    "for document in collection_cine2.find({\"출연영화\":{\"$regex\":\"국가\"}}):\n",
    "    pprint.pprint(document)"
   ]
  },
  {
   "cell_type": "code",
   "execution_count": null,
   "id": "7a9920ea",
   "metadata": {},
   "outputs": [],
   "source": [
    "'''\n",
    "collection_text 라는 컬렉션 생성하기\n",
    "'''\n",
    "collection_text = cine.collection_text"
   ]
  },
  {
   "cell_type": "code",
   "execution_count": null,
   "id": "4be552e4",
   "metadata": {},
   "outputs": [],
   "source": [
    "doc1 = {\"name\":\"java cafe\", \"description\":\"Coffe & Cake\", \"ranking\":1}\n",
    "doc2 = {\"name\":\"Burger Pot\", \"description\":\"Coffe & Burgar\", \"ranking\":2}\n",
    "doc3 = {\"name\":\"Coffee Shop\", \"description\":\"Only Coffee\", \"ranking\":3}\n",
    "doc4 = {\"name\":\"Clothes Shop\", \"description\":\"Discount Clothes\", \"ranking\":4}\n",
    "doc5 = {\"name\":\"Shopping Site\", \"description\":\"Shopping & Rest\", \"ranking\":5}"
   ]
  },
  {
   "cell_type": "code",
   "execution_count": null,
   "id": "3bf35b00",
   "metadata": {},
   "outputs": [],
   "source": [
    "collection_text.insert_many(\n",
    "    [doc1, doc2, doc3, doc4, doc5]\n",
    ")"
   ]
  },
  {
   "cell_type": "code",
   "execution_count": null,
   "id": "fa5934dc",
   "metadata": {},
   "outputs": [],
   "source": [
    "'''\n",
    "regex\n",
    "  .  문자 하나\n",
    "  +  하나 이상\n",
    "  *  없거나 또는 그 이상\n",
    "'''\n",
    "\n",
    "for document in collection_text.find({\"name\" : {\"$regex\" : \"Co.+\"}}, {\"_id\":0}):\n",
    "    print(document)"
   ]
  },
  {
   "cell_type": "code",
   "execution_count": null,
   "id": "156bc4a2",
   "metadata": {},
   "outputs": [],
   "source": [
    "for document in collection_text.find({\"name\": {\"$regex\":\"Co.*\"}}, {\"_id\":0}):\n",
    "    print(document)"
   ]
  },
  {
   "cell_type": "code",
   "execution_count": null,
   "id": "5e84171c",
   "metadata": {},
   "outputs": [],
   "source": [
    "collection_text.insert_one(\n",
    "    {\"name\":\"Co\", \"description\":\"cafe\", \"ranking\":6}\n",
    ")"
   ]
  },
  {
   "cell_type": "code",
   "execution_count": null,
   "id": "84ea8ece",
   "metadata": {},
   "outputs": [],
   "source": [
    "for document in collection_text.find({\"name\": {\"$regex\":\"Co.*\"}}, {\"_id\":0}):\n",
    "    print(document)"
   ]
  },
  {
   "cell_type": "code",
   "execution_count": null,
   "id": "d9a621c5",
   "metadata": {},
   "outputs": [],
   "source": [
    "for document in collection_text.find({\"name\": {\"$regex\":\"Co.+\"}}, {\"_id\":0}):\n",
    "    print(document)"
   ]
  },
  {
   "cell_type": "code",
   "execution_count": null,
   "id": "55604808",
   "metadata": {},
   "outputs": [],
   "source": [
    "'''\n",
    "name 필드에 text 속성을 지정해서 index 생성하기\n",
    "'''\n",
    "collection_text.create_index([(\"name\", \"text\")])"
   ]
  },
  {
   "cell_type": "code",
   "execution_count": null,
   "id": "0c91b1a0",
   "metadata": {},
   "outputs": [],
   "source": [
    "collection_text.index_information()"
   ]
  },
  {
   "cell_type": "code",
   "execution_count": null,
   "id": "af8c8ef1",
   "metadata": {},
   "outputs": [],
   "source": [
    "for document in collection_text.find({\"$text\":{\"$search\":\"Coffee\"}}, {\"_id\":0}):\n",
    "    pprint.pprint(document)"
   ]
  },
  {
   "cell_type": "code",
   "execution_count": null,
   "id": "137d40a2",
   "metadata": {},
   "outputs": [],
   "source": [
    "documents = \\\n",
    "  collection_text.find({\"$text\":{\"$search\":\"Java coffee shop\"}}, {\"_id\":0})\n",
    "\n",
    "for document in documents:\n",
    "    pprint.pprint(document)"
   ]
  },
  {
   "cell_type": "code",
   "execution_count": null,
   "id": "6e30fa4e",
   "metadata": {},
   "outputs": [],
   "source": [
    "''' \n",
    " \"검색할문자열\" : \"\" 속에 지정한 문자열과 일치하는 내용만 조회함\n",
    "'''\n",
    "documents = \\\n",
    "  collection_text.find({\"$text\":{\"$search\": \"\\\"Java coffee shop\\\"\"}}, {\"_id\":0})\n",
    "\n",
    "for document in documents:\n",
    "    print(document)"
   ]
  },
  {
   "cell_type": "code",
   "execution_count": null,
   "id": "492e3212",
   "metadata": {},
   "outputs": [],
   "source": [
    "documents = \\\n",
    "  collection_text.find({\"$text\":{\"$search\": \"\\\"coffee shop\\\"\"}}, {\"_id\":0})\n",
    "\n",
    "for document in documents:\n",
    "    print(document)"
   ]
  },
  {
   "cell_type": "code",
   "execution_count": null,
   "id": "6385994b",
   "metadata": {},
   "outputs": [],
   "source": [
    "documents = \\\n",
    "  collection_text.find({\"$text\":{\"$search\": \"\\\"burger pot\\\"\"}}, {\"_id\":0})\n",
    "\n",
    "for document in documents:\n",
    "    print(document)"
   ]
  },
  {
   "cell_type": "code",
   "execution_count": null,
   "id": "89ec2504",
   "metadata": {},
   "outputs": [],
   "source": [
    "'''\n",
    "대소문자 구분해서 일치하는 내용 조회하기\n",
    "\n",
    "  \"$caseSensitive\":True \n",
    "  \n",
    "  라고 설정함\n",
    "'''\n",
    "\n",
    "documents = \\\n",
    "  collection_text.find({\"$text\":{\"$search\":\"\\\"coffee shop\\\"\", \"$caseSensitive\":True}}, {\"_id\":0})\n",
    "\n",
    "for document in documents:\n",
    "    print(document)"
   ]
  },
  {
   "cell_type": "code",
   "execution_count": null,
   "id": "c81e643f",
   "metadata": {},
   "outputs": [],
   "source": [
    "for document in collection_cine2.find({}, {\"학교\":1, \"배우 이름\":1, \"_id\":0}):\n",
    "    pprint.pprint(document)"
   ]
  },
  {
   "cell_type": "code",
   "execution_count": null,
   "id": "1569bc1e",
   "metadata": {},
   "outputs": [],
   "source": [
    "'''\n",
    "서울예술대학 출신을 흥행지수 내림차순으로 10 명 조회하기\n",
    "(정규표현식 사용하기)\n",
    "출력필드 : 배우 이름, 학교, 흥행지수\n",
    "'''\n",
    "documents = collection_cine2.find({\"학교\":{\"$regex\":\"서울예술대학\"}},\\\n",
    "                                  {\"배우 이름\":1, \"학교\":1, \"흥행지수\":1, \"_id\":0})\\\n",
    "                            .sort(\"흥행지수\", pymongo.DESCENDING).limit(10)\n",
    "\n",
    "for document in documents:\n",
    "    pprint.pprint(document)"
   ]
  },
  {
   "cell_type": "code",
   "execution_count": null,
   "id": "3eb44e73",
   "metadata": {},
   "outputs": [],
   "source": [
    "documents = collection_cine2.find({\"학교\":{\"$regex\":\"중앙대학교\"}},\\\n",
    "                                  {\"배우 이름\":1, \"학교\":1, \"흥행지수\":1, \"_id\":0})\\\n",
    "                            .sort(\"흥행지수\", pymongo.DESCENDING).limit(10)\n",
    "\n",
    "for document in documents:\n",
    "    pprint.pprint(document)"
   ]
  },
  {
   "cell_type": "code",
   "execution_count": null,
   "id": "d16c8426",
   "metadata": {},
   "outputs": [],
   "source": []
  }
 ],
 "metadata": {
  "kernelspec": {
   "display_name": "Python 3 (ipykernel)",
   "language": "python",
   "name": "python3"
  },
  "language_info": {
   "codemirror_mode": {
    "name": "ipython",
    "version": 3
   },
   "file_extension": ".py",
   "mimetype": "text/x-python",
   "name": "python",
   "nbconvert_exporter": "python",
   "pygments_lexer": "ipython3",
   "version": "3.9.12"
  }
 },
 "nbformat": 4,
 "nbformat_minor": 5
}
