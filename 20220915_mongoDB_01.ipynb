{
 "cells": [
  {
   "cell_type": "markdown",
   "id": "7e82d1cc",
   "metadata": {},
   "source": [
    "### 여러 페이지에서 가져온 배우 정보를 MongoDB 에 저장하기"
   ]
  },
  {
   "cell_type": "code",
   "execution_count": null,
   "id": "8ad64b8f",
   "metadata": {},
   "outputs": [],
   "source": [
    "from bs4 import BeautifulSoup\n",
    "import requests\n",
    "import pymongo\n",
    "import re"
   ]
  },
  {
   "cell_type": "code",
   "execution_count": null,
   "id": "549f8f46",
   "metadata": {},
   "outputs": [],
   "source": [
    "'''\n",
    "MongoDB 연결하기\n",
    "'''\n",
    "\n",
    "conn = pymongo.MongoClient()\n",
    "cine = conn.cine\n",
    "collection_cine2 = cine.collection_cine2\n"
   ]
  },
  {
   "cell_type": "code",
   "execution_count": null,
   "id": "7087b9ed",
   "metadata": {},
   "outputs": [],
   "source": [
    "'''\n",
    "collection 삭제\n",
    "'''\n",
    "# collection_cine.drop()"
   ]
  },
  {
   "cell_type": "code",
   "execution_count": null,
   "id": "9353f414",
   "metadata": {},
   "outputs": [],
   "source": [
    "actors_info_list = []"
   ]
  },
  {
   "cell_type": "code",
   "execution_count": null,
   "id": "44f16cec",
   "metadata": {},
   "outputs": [],
   "source": [
    "url = \"http://www.cine21.com/rank/person/content\"\n",
    "\n",
    "post_data = {}\n",
    "post_data[\"section\"] = \"actor\"\n",
    "post_data[\"period_start\"] = \"2020-12\"\n",
    "post_data[\"gender\"] = \"all\"\n"
   ]
  },
  {
   "cell_type": "code",
   "execution_count": null,
   "id": "9a42a86d",
   "metadata": {},
   "outputs": [],
   "source": [
    "# 1 page ~ 20 page\n",
    "\n",
    "\n",
    "for idx in range(1, 21):\n",
    "\n",
    "    post_data[\"page\"] = idx\n",
    "\n",
    "    res = requests.post(url, data=post_data)\n",
    "    soup = BeautifulSoup(res.content, \"html.parser\")\n",
    "\n",
    "\n",
    "    actors = soup.select(\"li.people_li div.name\")\n",
    "    hits   = soup.select(\"ul.num_info > li > strong\")\n",
    "    movies = soup.select(\"ul.mov_list\")\n",
    "    rankings = soup.select(\"li.people_li > span.grade\")\n",
    "\n",
    "    for idx, actor in enumerate(actors):\n",
    "        actor_name   = (actor.text).split(\"(\")[0]\n",
    "        actor_hits   = int(hits[idx].text.replace(\",\",\"\"))\n",
    "        movie_titles = movies[idx].select(\"li a span\")\n",
    "\n",
    "        movie_title_list = []\n",
    "        for movie_title in movie_titles:            \n",
    "            movie_title_list.append(movie_title.text)\n",
    "\n",
    "        actors_info_dict = { }\n",
    "        actors_info_dict[\"배우이름\"] = actor_name\n",
    "        actors_info_dict[\"흥행지수\"] = actor_hits\n",
    "        actors_info_dict[\"출연영화\"] = movie_title_list\n",
    "        actors_info_dict[\"랭킹\"] = rankings[idx].text\n",
    "\n",
    "\n",
    "        actor_link = \"http://www.cine21.com\" + actor.select_one(\"a\").attrs[\"href\"]\n",
    "        actor_resp = requests.get(actor_link)    \n",
    "\n",
    "        actor_soup = BeautifulSoup(actor_resp.content, \"html.parser\")\n",
    "\n",
    "        default_info  = actor_soup.select_one(\"ul.default_info\")\n",
    "        actor_details = default_info.select(\"li\")\n",
    "\n",
    "\n",
    "        for actor_item in actor_details:           \n",
    "            actor_item_key = actor_item.select_one(\"span.tit\").text\n",
    "            actor_item_value = re.sub(\"<span.*?>.*?</span>\", \"\", str(actor_item))\n",
    "            actor_item_value = re.sub(\"<.*?>\", \"\", actor_item_value)\n",
    "\n",
    "            actors_info_dict[actor_item_key] = actor_item_value\n",
    "\n",
    "        actors_info_list.append(actors_info_dict)    \n",
    "\n",
    "    \n",
    "actors_info_list  \n"
   ]
  },
  {
   "cell_type": "code",
   "execution_count": null,
   "id": "ff57a8b9",
   "metadata": {},
   "outputs": [],
   "source": [
    "# collection_cine.delete_many({})"
   ]
  },
  {
   "cell_type": "code",
   "execution_count": null,
   "id": "06f0cf18",
   "metadata": {},
   "outputs": [],
   "source": [
    "collection_cine2.insert_many(actors_info_list)"
   ]
  },
  {
   "cell_type": "code",
   "execution_count": null,
   "id": "01451997",
   "metadata": {},
   "outputs": [],
   "source": [
    "collection_cine2.count_documents({})"
   ]
  },
  {
   "cell_type": "markdown",
   "id": "13dd65f6",
   "metadata": {},
   "source": [
    "### 데이터 분석 준비하기\n",
    "#### 1) key(field)명 변경하기\n",
    "- MongoDB 에 저장되어 있는 document 의 key(field) 이름 변경하기\n",
    "- update_one() / update_many()"
   ]
  },
  {
   "cell_type": "code",
   "execution_count": null,
   "id": "fe25a7ee",
   "metadata": {},
   "outputs": [],
   "source": [
    "collection_cine2.find_one({})"
   ]
  },
  {
   "cell_type": "code",
   "execution_count": null,
   "id": "7f486cd8",
   "metadata": {},
   "outputs": [],
   "source": [
    "import pprint\n",
    "\n",
    "documents = collection_cine2.find({}).limit(3)\n",
    "\n",
    "for document in documents:\n",
    "    pprint.pprint(document)\n",
    "    print('-' * 80)"
   ]
  },
  {
   "cell_type": "code",
   "execution_count": null,
   "id": "0c9be428",
   "metadata": {},
   "outputs": [],
   "source": [
    "'''\n",
    "배우이름 --> 배우 이름  : $rename\n",
    "'''\n",
    "collection_cine2.update_many({}, {\"$rename\" : {\"배우이름\":\"배우 이름\"}})"
   ]
  },
  {
   "cell_type": "code",
   "execution_count": null,
   "id": "042fde94",
   "metadata": {},
   "outputs": [],
   "source": [
    "documents = collection_cine2.find({}).limit(3)\n",
    "\n",
    "for document in documents:\n",
    "    pprint.pprint(document)\n",
    "    print(\"-\" * 80)"
   ]
  },
  {
   "cell_type": "markdown",
   "id": "fc7057a0",
   "metadata": {},
   "source": [
    "### 조회할 때 정렬하기(오름차순 / 내림차순)\n",
    "- sort() 메소드\n",
    "- 오름차순 : pymongo.ASCENDING (기본값)\n",
    "- 내림차순 : pymongo.DESCENDING"
   ]
  },
  {
   "cell_type": "code",
   "execution_count": null,
   "id": "11d55a2e",
   "metadata": {},
   "outputs": [],
   "source": [
    "documents = collection_cine2.find({}).sort(\"생년월일\").limit(10)\n",
    "\n",
    "for document in documents:\n",
    "    pprint.pprint(document)\n",
    "    print(\"-\" * 80)"
   ]
  },
  {
   "cell_type": "code",
   "execution_count": null,
   "id": "ce6d1406",
   "metadata": {},
   "outputs": [],
   "source": [
    "documents = collection_cine2.find({}).sort(\"생년월일\", pymongo.ASCENDING).limit(10)\n",
    "\n",
    "for document in documents:\n",
    "    pprint.pprint(document)\n",
    "    print(\"-\" * 80)"
   ]
  },
  {
   "cell_type": "code",
   "execution_count": null,
   "id": "16b47114",
   "metadata": {},
   "outputs": [],
   "source": [
    "documents = collection_cine2.find({}).sort(\"생년월일\", pymongo.DESCENDING).limit(10)\n",
    "\n",
    "for document in documents:\n",
    "    pprint.pprint(document)\n",
    "    print(\"-\" * 80)"
   ]
  },
  {
   "cell_type": "code",
   "execution_count": null,
   "id": "159a5624",
   "metadata": {},
   "outputs": [],
   "source": [
    "'''\n",
    "\"특기\"라는 key 값이 있는 document 만 조회하기\n",
    "                  ㄴ $exists\n",
    "'''\n",
    "documents = collection_cine2.find({\"특기\" : {\"$exists\" : True}})\n",
    "\n",
    "for document in documents:\n",
    "    pprint.pprint(document)\n",
    "    print(\"-\" * 80)"
   ]
  },
  {
   "cell_type": "code",
   "execution_count": null,
   "id": "d8cc3de7",
   "metadata": {},
   "outputs": [],
   "source": [
    "'''\n",
    "\"특기\" 라는 key 값이 있는 배우들만 \n",
    "\"흥행지수\" 순으로 정렬하기 (오름차순)\n",
    "'''\n",
    "documents = collection_cine2.find({\"특기\" : {\"$exists\" : True}}).sort(\"흥행지수\")\n",
    "\n",
    "for document in documents:\n",
    "    pprint.pprint(document)\n",
    "    print(\"-\" * 80)"
   ]
  },
  {
   "cell_type": "code",
   "execution_count": null,
   "id": "24a5fe64",
   "metadata": {},
   "outputs": [],
   "source": [
    "'''\n",
    "\"특기\" 라는 key 값이 있는 배우들만 \n",
    "\"흥행지수\" 내림차순으로 정렬하기 - 10 개만\n",
    "'''\n",
    "documents = \\\n",
    "  collection_cine2.find({\"특기\" : {\"$exists\" : True}})\\\n",
    "                 .sort(\"흥행지수\", pymongo.DESCENDING)\\\n",
    "                 .limit(10)\n",
    "\n",
    "for document in documents:\n",
    "    pprint.pprint(document)\n",
    "    print(\"-\" * 80)"
   ]
  },
  {
   "cell_type": "code",
   "execution_count": null,
   "id": "f9a03cd3",
   "metadata": {},
   "outputs": [],
   "source": [
    "'''\n",
    "생년월일 이라는 key 값이 있는 배우들만\n",
    "흥행지수 내림차순으로 정렬하기 - 5 개만\n",
    "'''\n",
    "documents = \\\n",
    "  collection_cine2.find({\"생년월일\" : {\"$exists\" : True}})\\\n",
    "                 .sort(\"흥행지수\", pymongo.DESCENDING)\\\n",
    "                 .limit(5)\n",
    "\n",
    "for document in documents:\n",
    "    pprint.pprint(document)\n",
    "    print(\"-\" * 80)"
   ]
  },
  {
   "cell_type": "code",
   "execution_count": null,
   "id": "d9402015",
   "metadata": {},
   "outputs": [],
   "source": [
    "'''\n",
    "생년월일 key 값이 있는 배우들만\n",
    "흥행지수 순서로 정렬해서 출력하기\n",
    "내림차순, 5 명만 \n",
    "배우 이름 key 만 출력하세요\n",
    "'''\n",
    "\n",
    "documents = \\\n",
    "  collection_cine2.find({\"생년월일\" : {\"$exists\":True}}, {\"배우 이름\":1, \"흥행지수\":1,\"_id\":0})\\\n",
    "                 .sort(\"흥행지수\").limit(10)\n",
    "\n",
    "for document in documents:\n",
    "    pprint.pprint(document)\n",
    "    print('-' * 80)"
   ]
  },
  {
   "cell_type": "code",
   "execution_count": null,
   "id": "586854f1",
   "metadata": {},
   "outputs": [],
   "source": [
    "'''\n",
    "내림차순 : pymongo.DESCENDING\n",
    "'''\n",
    "documents = \\\n",
    "  collection_cine2.find({\"생년월일\" : {\"$exists\":True}}, {\"배우 이름\":1, \"흥행지수\":1,\"_id\":0})\\\n",
    "                 .sort(\"흥행지수\", pymongo.DESCENDING).limit(10)\n",
    "\n",
    "for document in documents:\n",
    "    pprint.pprint(document)\n",
    "    print('-' * 80)"
   ]
  },
  {
   "cell_type": "code",
   "execution_count": null,
   "id": "4163025b",
   "metadata": {},
   "outputs": [],
   "source": [
    "'''\n",
    "흥행지수가 10000 이상인 배우만 조회하기\n",
    "'''\n",
    "documents = collection_cine2.find({\"흥행지수\":{\"$gte\":10000}})\n",
    "\n",
    "for document in documents:\n",
    "    pprint.pprint(document)\n",
    "    print('-' * 80)"
   ]
  },
  {
   "cell_type": "code",
   "execution_count": null,
   "id": "d259460c",
   "metadata": {},
   "outputs": [],
   "source": [
    "'''\n",
    "흥행지수가 10000 이상인 배우만 조회하기\n",
    "흥행지수, 배우 이름만 출력하기\n",
    "흥행지수 내림차순으로 정렬하기\n",
    "'''\n",
    "documents = \\\n",
    "  collection_cine2.find({\"흥행지수\":{\"$gte\":5000}}, \\\n",
    "                       {\"흥행지수\":1,\"배우 이름\":1, \"출연영화\":1,\"_id\":0})\\\n",
    "                 .sort(\"흥행지수\", pymongo.DESCENDING)\n",
    "\n",
    "for document in documents:\n",
    "    pprint.pprint(document)\n",
    "    print('-' * 80)"
   ]
  },
  {
   "cell_type": "code",
   "execution_count": null,
   "id": "28a96d04",
   "metadata": {},
   "outputs": [],
   "source": [
    "'''\n",
    "흥행지수가 10000 이상인 배우 중에서\n",
    "\"모가디슈\" 라는 영화에 출연한 사람만 조회하기\n",
    "배우 이름, 흥행지수, 출연영화 만 조회(출력)하기\n",
    "'''\n",
    "documents = \\\n",
    "  collection_cine2.find({\"흥행지수\":{\"$gte\":10000}, \"출연영화\":\"비상선언\"},\\\n",
    "                       {\"배우 이름\":1, \"흥행지수\":1, \"출연영화\":1, \"_id\":0})\n",
    "\n",
    "for document in documents:\n",
    "    pprint.pprint(document)\n",
    "    print('-' * 80)"
   ]
  },
  {
   "cell_type": "code",
   "execution_count": null,
   "id": "64d1744c",
   "metadata": {},
   "outputs": [],
   "source": [
    "'''\n",
    "흥행지수가 5000 이 넘으면서\n",
    "\"비상선언\" 또는 \"이웃사촌\" 에 출연한 배우들을 조회하세요\n",
    "배우 이름, 출연영화 키만 출력하세요\n",
    "'''\n",
    "documents = \\\n",
    "  collection_cine2.find({\"흥행지수\":{\"$gte\":5000}, \"출연영화\":\"비상선언\"},\\\n",
    "                       {\"배우 이름\":1, \"출연영화\":1, \"_id\":0})\n",
    "\n",
    "documents = \\\n",
    "  collection_cine2.find({\"흥행지수\":{\"$gte\":5000}, \"출연영화\":\"이웃사촌\"},\\\n",
    "                       {\"배우 이름\":1, \"출연영화\":1, \"_id\":0})"
   ]
  },
  {
   "cell_type": "markdown",
   "id": "6b23bd43",
   "metadata": {},
   "source": [
    "### find() - or"
   ]
  },
  {
   "cell_type": "code",
   "execution_count": null,
   "id": "32d091a9",
   "metadata": {},
   "outputs": [],
   "source": [
    "documents = \\\n",
    "  collection_cine2.find({\"흥행지수\":{\"$gte\":5000}, \\\n",
    "                        \"$or\" : [{\"출연영화\":\"비상선언\"}, {\"출연영화\":\"이웃사촌\"}]},\\\n",
    "                       {\"배우 이름\":1, \"출연영화\":1, \"흥행지수\":1,\"_id\":0})\n",
    "\n",
    "for document in documents:\n",
    "    pprint.pprint(document)\n",
    "    print('-' * 80)"
   ]
  },
  {
   "cell_type": "markdown",
   "id": "14ffab13",
   "metadata": {},
   "source": [
    "### find() - and"
   ]
  },
  {
   "cell_type": "code",
   "execution_count": null,
   "id": "7d1d6db9",
   "metadata": {},
   "outputs": [],
   "source": [
    "documents = \\\n",
    "  collection_cine2.find({\"흥행지수\":{\"$gte\":5000}, \\\n",
    "                        \"$and\" : [{\"출연영화\":\"비상선언\"}, {\"출연영화\":\"그것만이 내 세상\"}]},\\\n",
    "                       {\"배우 이름\":1, \"출연영화\":1, \"흥행지수\":1,\"_id\":0})\n",
    "\n",
    "for document in documents:\n",
    "    pprint.pprint(document)\n",
    "    print('-' * 80)"
   ]
  },
  {
   "cell_type": "markdown",
   "id": "b931cacd",
   "metadata": {},
   "source": [
    "### find() - nor (not or)"
   ]
  },
  {
   "cell_type": "code",
   "execution_count": null,
   "id": "78204b84",
   "metadata": {},
   "outputs": [],
   "source": [
    "documents = \\\n",
    "  collection_cine2.find({\"$nor\":[{\"흥행지수\": {\"$gte\":10000}}, {\"흥행지수\":{\"$lte\":1000}}]}, \\\n",
    "                       {\"배우 이름\":1, \"흥행지수\":1, \"_id\":0})\n",
    "\n",
    "for document in documents:\n",
    "    pprint.pprint(document)\n",
    "    print('-' * 80)"
   ]
  },
  {
   "cell_type": "code",
   "execution_count": null,
   "id": "4fa8e94b",
   "metadata": {},
   "outputs": [],
   "source": [
    "documents = \\\n",
    "  collection_cine2.find({\"$and\":[{\"흥행지수\": {\"$lte\":10000}}, {\"흥행지수\":{\"$gte\":1000}}]}, \\\n",
    "                       {\"배우 이름\":1, \"흥행지수\":1, \"_id\":0})\n",
    "\n",
    "for document in documents:\n",
    "    pprint.pprint(document)\n",
    "    print('-' * 80)"
   ]
  },
  {
   "cell_type": "code",
   "execution_count": null,
   "id": "05338d78",
   "metadata": {},
   "outputs": [],
   "source": [
    "documents = \\\n",
    "  collection_cine2.find({\"$or\":[{\"흥행지수\": {\"$gte\":10000}}, {\"흥행지수\":{\"$lte\":1000}}]}, \\\n",
    "                       {\"배우 이름\":1, \"흥행지수\":1, \"_id\":0})\n",
    "\n",
    "for document in documents:\n",
    "    pprint.pprint(document)\n",
    "    print('-' * 80)"
   ]
  },
  {
   "cell_type": "markdown",
   "id": "56d456c8",
   "metadata": {},
   "source": [
    "### find() - in(포함되어 있음), nin(not in)(포함되어 있지 않음)"
   ]
  },
  {
   "cell_type": "code",
   "execution_count": null,
   "id": "e732399e",
   "metadata": {},
   "outputs": [],
   "source": [
    "'''\n",
    "흥행지수가 12619, 15263 인 배우만 조회하기 - $in \n",
    "배우 이름, 흥행지수 만 조회하기\n",
    "'''\n",
    "documents = collection_cine2.find({\"흥행지수\":{\"$in\":[12619, 15263]}},\\\n",
    "                                 {\"배우 이름\":1, \"흥행지수\":1, \"_id\":0})\n",
    "                                  \n",
    "for document in documents:\n",
    "    pprint.pprint(document)    "
   ]
  },
  {
   "cell_type": "code",
   "execution_count": null,
   "id": "26cdd9ca",
   "metadata": {},
   "outputs": [],
   "source": [
    "'''\n",
    "흥행지수가 12619, 15263 이 아닌 배우만 조회하기 -  $nin\n",
    "배우 이름, 흥행지수만 조회하기\n",
    "'''\n",
    "documents = collection_cine2.find({\"흥행지수\":{\"$nin\":[12619, 15263]}},\\\n",
    "                                 {\"배우 이름\":1, \"흥행지수\":1, \"_id\":0})\n",
    "for document in documents:\n",
    "    pprint.pprint(document)    "
   ]
  },
  {
   "cell_type": "code",
   "execution_count": null,
   "id": "3f6bb8ed",
   "metadata": {},
   "outputs": [],
   "source": [
    "'''\n",
    "흥행지수가 12619, 15263 이 아니고(아니면서)\n",
    "10000 이상인 배우 이름과 흥행지수를 조회하세요\n",
    "  ㄴ 10000 미만이 아닌\n",
    "[힌트]\n",
    "  $nor 와 $in 같이 사용하기\n",
    "  \n",
    "1)   흥행지수가 12619, 15263 인 조건\n",
    "\n",
    "     {\"흥행지수\":{\"$in\":[12619, 15263]}\n",
    "     \n",
    "     \n",
    "2)   흥행지수가 10000 미만인 조건\n",
    "\n",
    "     {\"흥행지수\":{\"$lt\":10000}\n",
    "  \n",
    "3)   {\"$nor\" : [{\"흥행지수\":{\"$in\":[12619, 15263]}, {\"흥행지수\":{\"$lt\":10000}]}\n",
    "'''\n",
    "documents = \\\n",
    "  collection_cine2.find({\"$nor\" : [{\"흥행지수\":{\"$in\":[12619, 15263]}}, \\\n",
    "                                  {\"흥행지수\":{\"$lt\":10000}}]},\\\n",
    "                       {\"배우 이름\":1, \"흥행지수\":1, \"_id\":0})\n",
    "\n",
    "for document in documents:\n",
    "    pprint.pprint(document)\n",
    "    "
   ]
  },
  {
   "cell_type": "markdown",
   "id": "9b12ca94",
   "metadata": {},
   "source": [
    "### find() - skip() / limit()\n",
    "- skip(n) - 시작 부분에서 n 개 건너뜀 (n+1 부터 검색함)\n",
    "- limit(n) - n 개만 조회함"
   ]
  },
  {
   "cell_type": "code",
   "execution_count": null,
   "id": "e0bc794b",
   "metadata": {},
   "outputs": [],
   "source": [
    "'''\n",
    "흥행지수가 10000 을 초과하는 배우들의\n",
    "배우 이름, 흥행지수를 조회하세요\n",
    "'''\n",
    "documents = \\\n",
    "  collection_cine2.find({\"흥행지수\":{\"$gt\":10000}},\\\n",
    "                       {\"흥행지수\":1, \"배우 이름\":1, \"출연영화\":1,\"_id\":0})\n",
    "\n",
    "for document in documents:\n",
    "    pprint.pprint(document)\n",
    "print('-' * 80)    \n",
    "  "
   ]
  },
  {
   "cell_type": "code",
   "execution_count": null,
   "id": "2a8a1acd",
   "metadata": {},
   "outputs": [],
   "source": [
    "'''\n",
    "모가디슈에 출연한 배우들의 배우 이름, 출연영화를 출력하세요\n",
    "'''\n",
    "documents = \\\n",
    "  collection_cine2.find({\"출연영화\":\"모가디슈\"},\\\n",
    "                       {\"배우 이름\":1, \"출연영화\":1, \"_id\":0})\n",
    "for document in documents:\n",
    "    pprint.pprint(document)"
   ]
  },
  {
   "cell_type": "code",
   "execution_count": null,
   "id": "a26dea76",
   "metadata": {},
   "outputs": [],
   "source": [
    "'''\n",
    "모가디슈나 타짜에 출연한 배우들의 \n",
    "배우 이름, 출연영화를 조회하세요\n",
    "'''\n",
    "documents = \\\n",
    "  collection_cine2.find({\"$or\":[{\"출연영화\":\"모가디슈\"},{\"출연영화\":\"타짜\"}]},\\\n",
    "                        {\"배우 이름\":1, \"출연영화\":1, \"_id\":0})\n",
    "for document in documents:\n",
    "    pprint.pprint(document)\n",
    "    "
   ]
  },
  {
   "cell_type": "code",
   "execution_count": 119,
   "id": "0c20f9a5",
   "metadata": {},
   "outputs": [],
   "source": [
    "'''\n",
    "모가디슈와 타짜에 출연한 배우들의 \n",
    "배우 이름, 출연영화를 조회하세요\n",
    "'''\n",
    "documents =\\\n",
    "  collection_cine2.find({\"출연영화\":{\"$all\":[\"모가다슈\", \"타짜\"]}},\\\n",
    "                       {\"배우 이름\":1, \"출연영화\":1, \"_id\":0})\n",
    "for document in documents:\n",
    "    pprint.pprint(document)"
   ]
  },
  {
   "cell_type": "code",
   "execution_count": null,
   "id": "59629cd2",
   "metadata": {},
   "outputs": [],
   "source": [
    "documents = collection_cine2.find({},{\"_id\":0})\n",
    "# print(len(list(documents)))\n",
    "for document in documents:\n",
    "    pprint.pprint(document)"
   ]
  },
  {
   "cell_type": "code",
   "execution_count": null,
   "id": "e3f9c31a",
   "metadata": {},
   "outputs": [],
   "source": [
    "'''\n",
    "5 편의 영화에 출연한 배우만 검색하기 : $size\n",
    "배우 이름, 출연영화\n",
    "'''\n",
    "\n",
    "documents = \\\n",
    "  collection_cine2.find({\"출연영화\":{\"$size\":5}}, {\"배우 이름\":1,\"출연영화\":1,\"_id\":0})\n",
    "\n",
    "for document in documents:\n",
    "    pprint.pprint(document)\n",
    "    "
   ]
  },
  {
   "cell_type": "markdown",
   "id": "4faced37",
   "metadata": {},
   "source": [
    "### elemMatch\n",
    "- 각 document 의 key의 값으로 저장되어 있는 list에\n",
    "- 적어도 한 개 이상의 요소(element : item)가 여러 개의 조건을 \n",
    "- 동시에 만족하는 경우\n",
    "- 조건인 하나인 경우에는 사용하지 않음"
   ]
  },
  {
   "cell_type": "code",
   "execution_count": null,
   "id": "385ce583",
   "metadata": {},
   "outputs": [],
   "source": [
    "documents = collection_cine2.find({}).limit(3)\n",
    "for document in documents:\n",
    "    pprint.pprint(document)"
   ]
  },
  {
   "cell_type": "code",
   "execution_count": null,
   "id": "c9f32e57",
   "metadata": {},
   "outputs": [],
   "source": [
    "'''\n",
    "직업이 가수인 배우 중에서 \n",
    "흥행지수가 가장 높은 순서로 (내림차순) 정렬해서\n",
    "배우 이름, 직업, 흥행 지수를 조회하세요\n",
    "'''\n",
    "documents = collection_cine2.find({\"직업\":\"가수\"},\\\n",
    "                                 {\"배우 이름\":1, \"직업\":1, \"흥행지수\":1, \"_id\":0})\\\n",
    "                           .sort(\"흥행지수\", pymongo.DESCENDING) \n",
    "for document in documents:\n",
    "    pprint.pprint(document)"
   ]
  },
  {
   "cell_type": "code",
   "execution_count": null,
   "id": "5c74ba00",
   "metadata": {},
   "outputs": [],
   "source": [
    "'''\n",
    "collection_elementmatch 컬렉션 생성하기\n",
    "'''\n",
    "cine.collection_elementmatch\n",
    "# cine[\"collection_elementmatch\"]"
   ]
  },
  {
   "cell_type": "code",
   "execution_count": null,
   "id": "e25bc6b3",
   "metadata": {},
   "outputs": [],
   "source": [
    "elematch = cine.collection_elementmatch"
   ]
  },
  {
   "cell_type": "code",
   "execution_count": null,
   "id": "aa83342d",
   "metadata": {},
   "outputs": [],
   "source": [
    "doc1 = {\"results\" : [81, 85, 89]}\n",
    "doc2 = {\"results\" : [81, 85, 89, 72]}\n",
    "doc3 = {\"results\" : [81, 85, 89, 97]}\n",
    "doc4 = {\"results\" : [81, 85, 89, 72, 97]}\n",
    "doc5 = {\"results\" : [77, 86, 93]}\n",
    "\n",
    "elematch.insert_many(\n",
    "    [\n",
    "        doc1, doc2, doc3, doc4, doc5\n",
    "    ]\n",
    ")"
   ]
  },
  {
   "cell_type": "code",
   "execution_count": null,
   "id": "51eb02f4",
   "metadata": {},
   "outputs": [],
   "source": [
    "'''\n",
    "\"$gte\":90  <- 90 점 이상인 data 가 있는 document 조회(검색)하기\n",
    "\"$lt\":80   <- 80 점 미만인 data 가 있는 document 조회하기\n",
    "'''\n",
    "documents = elematch.find({\"results\":{\"$gte\":90, \"$lt\":80}}, {\"_id\":0})\n",
    "for document in documents:\n",
    "    pprint.pprint(document)"
   ]
  },
  {
   "cell_type": "code",
   "execution_count": null,
   "id": "ef6c5418",
   "metadata": {},
   "outputs": [],
   "source": [
    "'''\n",
    "각 조건별로 하나라도 만족하는 element가 있는 경우\n",
    "'''\n",
    "documents = elematch.find({\"results\":{\"$elemMatch\":{\"$gte\":85, \"$lt\":90}}}, {\"_id\":0})\n",
    "for document in documents:\n",
    "    print(document)"
   ]
  },
  {
   "cell_type": "code",
   "execution_count": null,
   "id": "2d189012",
   "metadata": {},
   "outputs": [],
   "source": [
    "doc6 = {\"results\": [82, 85, 88]}\n",
    "doc7 = {\"results\": [92, 95, 98]}\n",
    "\n",
    "elematch.insert_many(\n",
    "    [\n",
    "        doc6, doc7        \n",
    "    ]\n",
    ")"
   ]
  },
  {
   "cell_type": "code",
   "execution_count": null,
   "id": "c2e66d0e",
   "metadata": {},
   "outputs": [],
   "source": [
    "for document in elematch.find({\"results\" : {\"$elemMatch\":{\"$gte\":80, \"$lt\":85}}}, {\"_id\":0}):\n",
    "    print(document)"
   ]
  },
  {
   "cell_type": "code",
   "execution_count": null,
   "id": "09e0e90c",
   "metadata": {},
   "outputs": [],
   "source": [
    "'''\n",
    "collection_cine2 에서\n",
    "출연영화 key 만 10 개 조회하기\n",
    "'''\n",
    "for document in collection_cine2.find({}, {\"출연영화\":1, \"_id\":0}).limit(10):\n",
    "    print(document)"
   ]
  },
  {
   "cell_type": "code",
   "execution_count": null,
   "id": "1cc8c6aa",
   "metadata": {},
   "outputs": [],
   "source": [
    "'''\n",
    "출연영화에 '도굴' 이라는 영화가 있는 document 만 조회하기\n",
    "출연영화 key 만 출력함\n",
    "'''\n",
    "for document in collection_cine2.find({\"출연영화\":\"도굴\"}, {\"출연영화\":1, \"_id\":0}):\n",
    "    print(document)"
   ]
  },
  {
   "cell_type": "code",
   "execution_count": 106,
   "id": "3324da87",
   "metadata": {},
   "outputs": [
    {
     "name": "stdout",
     "output_type": "stream",
     "text": [
      "{'출연영화': ['모가디슈', '타짜', '당신, 거기 있어줄래요', '화이 : 괴물을 삼킨 아이', '미성년', '1987']}\n",
      "{'출연영화': ['모가디슈', '클래식']}\n",
      "{'출연영화': ['모가디슈', '비상선언', '스프링 송', '아이 캔 스피크', '미성년']}\n",
      "{'출연영화': ['모가디슈', '국가부도의 날']}\n",
      "{'출연영화': ['모가디슈', '지푸라기라도 잡고 싶은 짐승들', '헌트', '똥파리', '군도 : 민란의 시대', '끝까지 간다']}\n",
      "{'출연영화': ['싱크홀', '모가디슈', '괴기맨숀', '액션히어로', '싸나희 순정', '숏버스 이별행']}\n",
      "{'출연영화': ['모가디슈', '메기', '우리 손자 베스트', '반도', '오늘영화']}\n",
      "{'출연영화': ['모가디슈', '리미트', '메기', '1987']}\n"
     ]
    }
   ],
   "source": [
    "'''\n",
    "출연영화에 '모가디슈' 이라는 영화가 포함되어 있는 document 만 조회하기\n",
    "출연영화 key 만 출력함\n",
    "'''\n",
    "for document in collection_cine2.find({\"출연영화\":\"모가디슈\"}, {\"출연영화\":1, \"_id\":0}):\n",
    "    print(document)"
   ]
  },
  {
   "cell_type": "code",
   "execution_count": 107,
   "id": "52534814",
   "metadata": {},
   "outputs": [
    {
     "name": "stdout",
     "output_type": "stream",
     "text": [
      "{'출연영화': ['모가디슈', '클래식']}\n"
     ]
    }
   ],
   "source": [
    "'''\n",
    "출연영화가 \"모가디슈\", \"클래식\" 두 개인 document 조회하기\n",
    "'''\n",
    "for document in collection_cine2.find({\"출연영화\":[\"모가디슈\", \"클래식\"]}, {\"출연영화\":1, \"_id\":0}):\n",
    "    print(document)"
   ]
  },
  {
   "cell_type": "code",
   "execution_count": 108,
   "id": "af4cfc59",
   "metadata": {},
   "outputs": [],
   "source": [
    "'''\n",
    "출연영화가 \"모가디슈\", \"메기\" 두 개인 document 조회하기\n",
    "'''\n",
    "for document in collection_cine2.find({\"출연영화\":[\"모가디슈\", \"메기\"]}, {\"출연영화\":1, \"_id\":0}):\n",
    "    print(document)"
   ]
  },
  {
   "cell_type": "code",
   "execution_count": null,
   "id": "66717e7e",
   "metadata": {},
   "outputs": [],
   "source": [
    "'''\n",
    "출연영화에 \"모가디슈\", \"메기\" 가 포함되어 있는 document\n",
    "'''\n",
    "documents = \\\n",
    "  collection_cine2.find({\"출연영화\":{\"$all\":[\"모가디슈\", \"메기\"]}}, \\\n",
    "                        {\"출연영화\":1, \"_id\":0})\n",
    "\n",
    "for document in documents:\n",
    "    print(document)"
   ]
  },
  {
   "cell_type": "code",
   "execution_count": null,
   "id": "045237c6",
   "metadata": {},
   "outputs": [],
   "source": [
    "'''\n",
    "출연영화에 \"국가부도의 날\" 이 포함되어 있는 document\n",
    "'''\n",
    "for document in collection_cine2.find({\"출연영화\":\"국가부도의 날\"}, {\"출연영화\":1,\"_id\":0}):\n",
    "    print(document)\n"
   ]
  },
  {
   "cell_type": "code",
   "execution_count": 116,
   "id": "384fb4b8",
   "metadata": {},
   "outputs": [
    {
     "name": "stdout",
     "output_type": "stream",
     "text": [
      "{'배우 이름': '조우진', '직업': '배우', '흥행지수': 11621}\n",
      "{'배우 이름': '허준호', '직업': '배우', '흥행지수': 9379}\n",
      "{'배우 이름': '김홍파', '직업': '배우', '흥행지수': 4805}\n"
     ]
    }
   ],
   "source": [
    "'''\n",
    "\"국가부도의 날\" 에 출연한 배우들 중에서 \n",
    "\"흥행지수\" 가 높은 순으로 \n",
    "배우 이름, 직업, 흥행지수를 조회하세요\n",
    "'''\n",
    "documents = collection_cine2.find({\"출연영화\":\"국가부도의 날\"},\\\n",
    "                                  {\"배우 이름\":1, \"직업\":1, \"흥행지수\":1, \"_id\":0})\\\n",
    "                            .sort(\"흥행지수\", pymongo.DESCENDING)\n",
    "for document in documents:\n",
    "    pprint.pprint(document)"
   ]
  },
  {
   "cell_type": "code",
   "execution_count": null,
   "id": "42ba850f",
   "metadata": {},
   "outputs": [],
   "source": []
  },
  {
   "cell_type": "code",
   "execution_count": null,
   "id": "a4031d2a",
   "metadata": {},
   "outputs": [],
   "source": []
  },
  {
   "cell_type": "code",
   "execution_count": null,
   "id": "ed201445",
   "metadata": {},
   "outputs": [],
   "source": []
  },
  {
   "cell_type": "code",
   "execution_count": null,
   "id": "af30abfa",
   "metadata": {},
   "outputs": [],
   "source": []
  }
 ],
 "metadata": {
  "kernelspec": {
   "display_name": "Python 3.10.6 64-bit",
   "language": "python",
   "name": "python3"
  },
  "language_info": {
   "codemirror_mode": {
    "name": "ipython",
    "version": 3
   },
   "file_extension": ".py",
   "mimetype": "text/x-python",
   "name": "python",
   "nbconvert_exporter": "python",
   "pygments_lexer": "ipython3",
   "version": "3.10.6"
  },
  "vscode": {
   "interpreter": {
    "hash": "369f2c481f4da34e4445cda3fffd2e751bd1c4d706f27375911949ba6bb62e1c"
   }
  }
 },
 "nbformat": 4,
 "nbformat_minor": 5
}
