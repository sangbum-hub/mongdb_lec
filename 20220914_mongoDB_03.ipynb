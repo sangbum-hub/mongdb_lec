{
 "cells": [
  {
   "cell_type": "markdown",
   "id": "0d81ba46",
   "metadata": {},
   "source": [
    "### cine21 사이트에서 배우 랭킹 정보 크롤링하기\n",
    "\n",
    "- http://www.cine21.com/rank/person 접속\n",
    "- 개발자 도구 실행(F12) \n",
    "- NetWork 탭 선택\n",
    "- Preserve log 선택(체크) 확인\n",
    "- All 선택 확인\n",
    "- 설정이 되어있지 않으면 위와 같이 설정하고\n",
    "- 개발자 도구를 닫은 후 다시 연다\n",
    "- cine21 화면 중에 \n",
    "- 집계기간 1개월| 6개월| 1년| 2년 <- 에서 6개월 선택\n",
    "- Name 밑에 나오는 목록 중에서 content 선택\n",
    "- 오른쪽 메뉴 중 Headers 선택\n",
    "- General 의 하위 목록 확인\n",
    "- Request URL: http://www.cine21.com/rank/person/content\n",
    "- Request Method: POST\n",
    "- Status Code: 200 OK\n",
    "- Remote Address: 115.68.232.4:80\n",
    "- Referrer Policy: strict-origin-when-cross-origin\n",
    "- 집계기간 1개월| 6개월| 1년| 2년 <- 에서 2년 선택\n",
    "- Name 밑에 나오는 목록 중에서 content 선택\n",
    "- 오른쪽 메뉴 중 Headers 선택\n",
    "- Request URL: http://www.cine21.com/rank/person/content\n",
    "- Request Method: POST\n",
    "- Status Code: 200 OK\n",
    "- Remote Address: 115.68.232.4:80\n",
    "- Referrer Policy: strict-origin-when-cross-origin\n",
    "- 오른쪽 메뉴 중 Payload 선택 및 확인\n",
    "- section: actor\n",
    "- period_start: 2020-09\n",
    "- gender: all\n",
    "- page: 1\n",
    "\n",
    "<br>\n",
    "\n",
    "- 사이트 주소 (URL) : http://www.cine21.com/rank/person\n",
    "- Request URL: http://www.cine21.com/rank/person/content\n",
    "\n",
    "- section: actor\n",
    "- period_start: 2020-09\n",
    "- gender: all\n",
    "- page: 1"
   ]
  },
  {
   "cell_type": "code",
   "execution_count": null,
   "id": "39f7fa21",
   "metadata": {},
   "outputs": [],
   "source": [
    "import pymongo\n",
    "from bs4 import BeautifulSoup\n",
    "import requests\n",
    "import re"
   ]
  },
  {
   "cell_type": "code",
   "execution_count": null,
   "id": "b8e91a71",
   "metadata": {},
   "outputs": [],
   "source": [
    "'''\n",
    "1) MongoDB 연결하기\n",
    "2) Database 생성하기\n",
    "3) Collection 생성하기\n",
    "'''\n",
    "conn = pymongo.MongoClient()\n",
    "cine = conn.cine\n",
    "collection_cine = cine.collection_cine"
   ]
  },
  {
   "cell_type": "code",
   "execution_count": null,
   "id": "ae3ff324",
   "metadata": {},
   "outputs": [],
   "source": [
    "'''\n",
    "crawling 할 URL 요청하기\n",
    "'''\n",
    "url = \"http://www.cine21.com/rank/person/content\"\n",
    "\n",
    "'''\n",
    "비어있는 dictionary 생성하기\n",
    "section: actor\n",
    "period_start: 2020-09\n",
    "gender: all\n",
    "page: 1\n",
    "'''\n",
    "post_data = {}\n",
    "post_data[\"section\"]=\"actor\"\n",
    "post_data[\"period_start\"]=\"2020-09\"\n",
    "post_data[\"gender\"]=\"all\"\n",
    "post_data[\"page\"]=1\n",
    "print(post_data)"
   ]
  },
  {
   "cell_type": "code",
   "execution_count": null,
   "id": "5dd3c7b1",
   "metadata": {},
   "outputs": [],
   "source": [
    "'''\n",
    "post 방식으로 request 보내기\n",
    "'''\n",
    "resp = requests.post(url, post_data)\n",
    "print(resp)"
   ]
  },
  {
   "cell_type": "code",
   "execution_count": null,
   "id": "fb748c61",
   "metadata": {},
   "outputs": [],
   "source": [
    "resp.content"
   ]
  },
  {
   "cell_type": "markdown",
   "id": "8efcad1b",
   "metadata": {},
   "source": [
    "### 응답(Response) 받은 문서를 parsing 해서 원하는 data 추출하기"
   ]
  },
  {
   "cell_type": "code",
   "execution_count": null,
   "id": "d4a45144",
   "metadata": {},
   "outputs": [],
   "source": [
    "soup = BeautifulSoup(resp.content, \"html.parser\")"
   ]
  },
  {
   "cell_type": "code",
   "execution_count": null,
   "id": "395cc346",
   "metadata": {},
   "outputs": [],
   "source": [
    "soup"
   ]
  },
  {
   "cell_type": "code",
   "execution_count": null,
   "id": "0780b5ba",
   "metadata": {},
   "outputs": [],
   "source": [
    "actors = soup.select(\"li.people_li div.name\")\n",
    "\n",
    "for actor in actors:\n",
    "    print(actor)"
   ]
  },
  {
   "cell_type": "code",
   "execution_count": null,
   "id": "8430fe79",
   "metadata": {},
   "outputs": [],
   "source": [
    "'''\n",
    "actor.text : content 만 추출함\n",
    "'''\n",
    "for actor in actors:\n",
    "    print(actor.text)"
   ]
  },
  {
   "cell_type": "code",
   "execution_count": null,
   "id": "b0a7175a",
   "metadata": {},
   "outputs": [],
   "source": [
    "print(type(actor.text))"
   ]
  },
  {
   "cell_type": "code",
   "execution_count": null,
   "id": "444c196e",
   "metadata": {},
   "outputs": [],
   "source": [
    "'''\n",
    "배우이름만 추출함 : 문자열의 split() 메소드 호출\n",
    "'''\n",
    "for actor in actors:\n",
    "    print((actor.text).split(\"(\"))"
   ]
  },
  {
   "cell_type": "code",
   "execution_count": null,
   "id": "e04abcc4",
   "metadata": {},
   "outputs": [],
   "source": [
    "for actor in actors:\n",
    "    print((actor.text).split(\"(\")[0])"
   ]
  },
  {
   "cell_type": "code",
   "execution_count": null,
   "id": "6004c8a6",
   "metadata": {},
   "outputs": [],
   "source": [
    "for actor in actors:\n",
    "    print(actor.select_one(\"a\"))"
   ]
  },
  {
   "cell_type": "code",
   "execution_count": null,
   "id": "10b81f54",
   "metadata": {},
   "outputs": [],
   "source": [
    "'''\n",
    "http://www.cine21.com/db/person/info/?person_id=15222\n",
    "'''"
   ]
  },
  {
   "cell_type": "code",
   "execution_count": null,
   "id": "babb7903",
   "metadata": {},
   "outputs": [],
   "source": [
    "for actor in actors:\n",
    "    print(actor.select_one(\"a\").attrs[\"href\"])"
   ]
  },
  {
   "cell_type": "code",
   "execution_count": null,
   "id": "d6fe5c68",
   "metadata": {},
   "outputs": [],
   "source": [
    "for actor in actors:\n",
    "    print(\"http://www.cine21.com\" + actor.select_one(\"a\").attrs[\"href\"])"
   ]
  },
  {
   "cell_type": "markdown",
   "id": "a49b7f5d",
   "metadata": {},
   "source": [
    "### 정규표현식 : Regualr Expression\n",
    "```html\n",
    "\n",
    "  https://regexr.com/\n",
    "\n",
    "  <li><span class=\"tit\">직업</span>배우</li>\n",
    "\n",
    "  - .  : \\n(줄바꿈)문자를 제외한 모든 문자 하나를 의미함\n",
    "  - *  : 앞 문자가 반복되는 pattern\n",
    "  - .* : 문자가 반복되는 pattern\n",
    "\n",
    "\n",
    "```"
   ]
  },
  {
   "cell_type": "code",
   "execution_count": null,
   "id": "687d32c9",
   "metadata": {},
   "outputs": [],
   "source": [
    "'''\n",
    "get 방식으로 request 보내기\n",
    "  ㄴ requests 모듈에 있는 get() 함수를 호출함\n",
    "  \n",
    "  ul.default_info\n",
    "    <ul class=\"default_info\">\n",
    "        <li><span class=\"tit\">직업</span>배우</li>\n",
    "        <li><span class=\"tit\">생년월일</span>1977-01-26</li>\n",
    "\n",
    "        <li><span class=\"tit\">성별</span>남</li>\n",
    "\n",
    "\n",
    "        <li><span class=\"tit\">신장/체중</span>177cm, 65kg</li>\n",
    "        <li><span class=\"tit\">학교</span>남서울대학교 영어학 (중퇴)</li>\n",
    "        <li><span class=\"tit\">취미</span>영화감상, 음악감상, 컴퓨터게임</li>\n",
    "        <li><span class=\"tit\">특기</span>노래, 기타연주, 탁구, 야구</li>\n",
    "\n",
    "        <li><span class=\"tit\">소속사</span>휴메인엔터테인먼트</li>\n",
    "    </ul>\n",
    "    \n",
    "'''\n",
    "\n",
    "# 비어있는 list 생성\n",
    "actors_info_list = []\n",
    "\n",
    "for actor in actors:\n",
    "    actor_link = \"http://www.cine21.com\" + actor.select_one(\"a\").attrs[\"href\"]\n",
    "    resp_actor = requests.get(actor_link)\n",
    "    soup_actor = BeautifulSoup(resp_actor.content, \"html.parser\")\n",
    "    \n",
    "    default_info = soup_actor.select_one(\"ul.default_info\")\n",
    "    details_actor = default_info.select(\"li\")\n",
    "    \n",
    "    # 비어있는 dictionary 생성\n",
    "    actors_info_dict = {}\n",
    "    \n",
    "    for actor_item in details_actor:\n",
    "        actor_item_key = actor_item.select_one(\"span.tit\").text\n",
    "        actor_item_value = re.sub(\"<span.*?>.*?</span>\",\"\",str(actor_item))\n",
    "        actor_item_value = re.sub(\"<.*?>\",\"\",actor_item_value)\n",
    "        actors_info_dict[actor_item_key] = actor_item_value\n",
    "    \n",
    "    actors_info_list.append(actors_info_dict)\n",
    "    \n",
    "actors_info_list\n",
    "    "
   ]
  },
  {
   "cell_type": "markdown",
   "id": "791a13dc",
   "metadata": {},
   "source": [
    "### 각 배우들의 흥행지수 / 출연 영화"
   ]
  },
  {
   "cell_type": "code",
   "execution_count": null,
   "id": "d2f8c0af",
   "metadata": {},
   "outputs": [],
   "source": [
    "actors = soup.select(\"li.people_li div.name\")\n",
    "hits = soup.select(\"ul.num_info > li > strong\")\n",
    "movies = soup.select(\"ul.mov_list\")\n",
    "\n",
    "for actor in actors:\n",
    "    print(actor)\n",
    "    \n",
    "for hit in hits:\n",
    "    print(hit)\n",
    "    \n",
    "print('hits[0] :',hits[0]) \n",
    "print('-' * 60)\n"
   ]
  },
  {
   "cell_type": "code",
   "execution_count": null,
   "id": "6122e05c",
   "metadata": {},
   "outputs": [],
   "source": [
    "\n",
    "for idx, actor in enumerate(actors):\n",
    "    print(\"배우이름 :\",(actor.text).split(\"(\")[0])\n",
    "    print(\"흥행지수 :\",int(hits[idx].text.replace(\",\",\"\")))\n",
    "    movie_titles = movies[idx].select(\"li a span\")\n",
    "    \n",
    "    movie_titles_list = []    \n",
    "    for movie_title in movie_titles:\n",
    "        movie_titles_list.append(movie_title.text)\n",
    "        \n",
    "    print(\"출연영화 :\",movie_titles_list)\n",
    "    print(\"-\" * 80)"
   ]
  },
  {
   "cell_type": "markdown",
   "id": "c43b889e",
   "metadata": {},
   "source": [
    "### 수집한 data 로 dictionary 생성하기\n",
    "-  흥행지수 + 출연영화 + 배우상세정보"
   ]
  },
  {
   "cell_type": "code",
   "execution_count": null,
   "id": "087b7b59",
   "metadata": {},
   "outputs": [],
   "source": [
    "actors_info_list = []\n",
    "\n",
    "actors = soup.select(\"li.people_li div.name\")\n",
    "hits = soup.select(\"ul.num_info > li > strong\")\n",
    "movies = soup.select(\"ul.mov_list\")\n",
    "\n",
    "for idx, actor in enumerate(actors):\n",
    "    actor_name = (actor.text).split(\"(\")[0]\n",
    "    actor_hits  = int(hits[idx].text.replace(\",\", \"\"))\n",
    "    movie_titles = movies[idx].select(\"li a span\")\n",
    "    \n",
    "    movie_title_list = []\n",
    "    for movie_title in movie_titles:\n",
    "        movie_title_list.append(movie_title.text)\n",
    "        \n",
    "    actors_info_dict = {}      \n",
    "    actors_info_dict[\"배우이름\"] = actor_name \n",
    "    actors_info_dict[\"흥행지수\"] = actor_hits\n",
    "    actors_info_dict[\"출연영화\"] = movie_title_list\n",
    "    \n",
    "    actor_link = \"http://www.cine21.com\" + actor.select_one(\"a\").attrs[\"href\"]\n",
    "    actor_resp = requests.get(actor_link)\n",
    "    actor_soup = BeautifulSoup(actor_resp.content, \"html.parser\")    \n",
    "    actor_details = default_info.select(\"li\")\n",
    "    \n",
    "    for actor_item in actor_details:\n",
    "        actor_item_key = actor_item.select_one(\"span.tit\").text\n",
    "        actor_item_value = re.sub(\"<sapn.*?>.*?</span>\", \"\", str(actor_item))\n",
    "        actor_item_value = re.sub(\"<.*?>\", \"\", actor_item_value)\n",
    "        \n",
    "        actors_info_dict[actor_item_key] = actor_item_value\n",
    "        \n",
    "    actors_info_list.append(actors_info_dict)    \n",
    "    \n",
    "actors_info_list    "
   ]
  },
  {
   "cell_type": "markdown",
   "id": "6fd428ca",
   "metadata": {},
   "source": []
  },
  {
   "cell_type": "code",
   "execution_count": null,
   "id": "d298d799",
   "metadata": {},
   "outputs": [],
   "source": []
  },
  {
   "cell_type": "code",
   "execution_count": null,
   "id": "e2e0016a",
   "metadata": {},
   "outputs": [],
   "source": []
  },
  {
   "cell_type": "code",
   "execution_count": null,
   "id": "a78901a4",
   "metadata": {},
   "outputs": [],
   "source": []
  },
  {
   "cell_type": "code",
   "execution_count": null,
   "id": "58fba1f6",
   "metadata": {},
   "outputs": [],
   "source": []
  },
  {
   "cell_type": "code",
   "execution_count": null,
   "id": "e20fb315",
   "metadata": {},
   "outputs": [],
   "source": []
  }
 ],
 "metadata": {
  "kernelspec": {
   "display_name": "Python 3 (ipykernel)",
   "language": "python",
   "name": "python3"
  },
  "language_info": {
   "codemirror_mode": {
    "name": "ipython",
    "version": 3
   },
   "file_extension": ".py",
   "mimetype": "text/x-python",
   "name": "python",
   "nbconvert_exporter": "python",
   "pygments_lexer": "ipython3",
   "version": "3.9.12"
  }
 },
 "nbformat": 4,
 "nbformat_minor": 5
}
