{
 "cells": [
  {
   "cell_type": "code",
   "execution_count": null,
   "id": "60aa050a",
   "metadata": {},
   "outputs": [],
   "source": [
    "# !pip install pymongo"
   ]
  },
  {
   "cell_type": "code",
   "execution_count": null,
   "id": "31339e44",
   "metadata": {},
   "outputs": [],
   "source": [
    "import pymongo"
   ]
  },
  {
   "cell_type": "markdown",
   "id": "5b96bf60",
   "metadata": {},
   "source": [
    "### MongDB 접속하기"
   ]
  },
  {
   "cell_type": "code",
   "execution_count": null,
   "id": "b682be84",
   "metadata": {},
   "outputs": [],
   "source": [
    "'''\n",
    "python 에서 MongoDB 에 접속하기\n",
    "\n",
    "pymongo 모듈에 정의된 MongoClient 객체를 생성함\n",
    "\n",
    "형식]\n",
    "  MongClient(\"ip(domain 주소)\", 포트번호)  \n",
    "  MongClient() : 자동으로 localhost:27017 로 접속함\n",
    "'''\n",
    "conn = pymongo.MongoClient(\"localhost\", 27017)\n",
    "# conn = pymongo.MongoClient(\"127.0.0.1\", 27017)"
   ]
  },
  {
   "cell_type": "markdown",
   "id": "c0a26957",
   "metadata": {},
   "source": [
    "### db_test 라는 database 가  생성하기\n",
    "- db_test 라는 database 가 이미 있으면 사용 가능한 상태가 되고\n",
    "- db_test 라는 database 가 없다면 새로 생성됨"
   ]
  },
  {
   "cell_type": "code",
   "execution_count": null,
   "id": "40beaaf3",
   "metadata": {},
   "outputs": [],
   "source": [
    "# Database 객체 생성\n",
    "db_test = conn.db_test\n",
    "# db_test = conn[\"db_test\"]"
   ]
  },
  {
   "cell_type": "markdown",
   "id": "4a534e09",
   "metadata": {},
   "source": [
    "### 생성된 Database 객체 확인하기"
   ]
  },
  {
   "cell_type": "code",
   "execution_count": null,
   "id": "da6e8528",
   "metadata": {},
   "outputs": [],
   "source": [
    "print('-- db_test --')\n",
    "print(db_test)"
   ]
  },
  {
   "cell_type": "code",
   "execution_count": null,
   "id": "fc51b681",
   "metadata": {},
   "outputs": [],
   "source": [
    "# 생성된 Database 의 이름 확인하기 : name 속성\n",
    "print('db_test.name : ', db_test.name)"
   ]
  },
  {
   "cell_type": "markdown",
   "id": "6461b50d",
   "metadata": {},
   "source": [
    "### collection (객체) 생성하기\n",
    "- collection_test 라는 이름의 collection 생성하기\n",
    "- 이미 생성되어 있으면 사용하게 되고, 없으면 새로 생성됨"
   ]
  },
  {
   "cell_type": "code",
   "execution_count": null,
   "id": "fd0ddcdc",
   "metadata": {},
   "outputs": [],
   "source": [
    "collection_test = db_test.collection_test\n",
    "# collection_test = db_test[\"collection_test\"]"
   ]
  },
  {
   "cell_type": "markdown",
   "id": "88ffe42e",
   "metadata": {},
   "source": [
    "### collection (객체) 확인하기"
   ]
  },
  {
   "cell_type": "code",
   "execution_count": null,
   "id": "e9cfa753",
   "metadata": {},
   "outputs": [],
   "source": [
    "print('-- collection_test --')\n",
    "print(collection_test)"
   ]
  },
  {
   "cell_type": "markdown",
   "id": "d13defe7",
   "metadata": {},
   "source": [
    "### document 추가하기 : insert_one(), insert_many()\n",
    "- insert_one() : document 하나 추가(생성) 하기\n",
    "- python의 dictionary로 생성함"
   ]
  },
  {
   "cell_type": "code",
   "execution_count": null,
   "id": "e6945c55",
   "metadata": {},
   "outputs": [],
   "source": [
    "post_dict = {\n",
    "              \"author\":\"John\",\n",
    "              \"text\"  : \"first posting\",\n",
    "              \"tags\"  : [\"python\", \"mongodb\", \"pymongo\"]     \n",
    "            }"
   ]
  },
  {
   "cell_type": "markdown",
   "id": "a6c4258e",
   "metadata": {},
   "source": [
    "### collection_test 라는 컬렉션에 post_dict (document) 추가하기"
   ]
  },
  {
   "cell_type": "code",
   "execution_count": null,
   "id": "8db64555",
   "metadata": {},
   "outputs": [],
   "source": [
    "'''\n",
    "collection_test : Collection 객체\n",
    "insert_one()    : Collection 객체의 method\n",
    "'''\n",
    "collection_test.insert_one(post_dict)"
   ]
  },
  {
   "cell_type": "code",
   "execution_count": null,
   "id": "93ed7755",
   "metadata": {},
   "outputs": [],
   "source": [
    "collection_test.insert_one({\"author\":\"Paul\", \"age\":42})"
   ]
  },
  {
   "cell_type": "markdown",
   "id": "9ad2adab",
   "metadata": {},
   "source": [
    "- insertMany() method"
   ]
  },
  {
   "cell_type": "code",
   "execution_count": null,
   "id": "69057e00",
   "metadata": {},
   "outputs": [],
   "source": [
    "collection_test.insert_many(\n",
    "    [\n",
    "        {\"author\":\"Tom\", \"age\":27},\n",
    "        {\"author\":\"Cruise\", \"age\":32}\n",
    "    ]\n",
    ")"
   ]
  },
  {
   "cell_type": "markdown",
   "id": "210c5240",
   "metadata": {},
   "source": [
    "### collection 에 document 를 insert 했을 때 _id(primary key) 값 확인하기\n",
    "- inserted_id 속성"
   ]
  },
  {
   "cell_type": "code",
   "execution_count": null,
   "id": "242ee2ce",
   "metadata": {},
   "outputs": [],
   "source": [
    "post_id = collection_test.insert_one({\"author\":\"Scott\", \"age\":42})"
   ]
  },
  {
   "cell_type": "code",
   "execution_count": null,
   "id": "d74c4fdc",
   "metadata": {
    "scrolled": true
   },
   "outputs": [],
   "source": [
    "print('-- insert 된 document 의 _id 값 --')\n",
    "print(post_id.inserted_id)"
   ]
  },
  {
   "cell_type": "markdown",
   "id": "eaf5c191",
   "metadata": {},
   "source": [
    "### collection 에 있는 document 의 개수 확인하기 \n",
    "- count_documents() 메소드"
   ]
  },
  {
   "cell_type": "code",
   "execution_count": null,
   "id": "3c5ec514",
   "metadata": {},
   "outputs": [],
   "source": [
    "print('-- 현재 collection_test 컬렉션에 있는 document 들의 개수 --')\n",
    "print(collection_test.count_documents({}),'개')"
   ]
  },
  {
   "cell_type": "code",
   "execution_count": null,
   "id": "68b300ae",
   "metadata": {},
   "outputs": [],
   "source": [
    "print('-- author 가 Scott 인 document 들의 개수 --')\n",
    "print(collection_test.count_documents({\"author\":\"Scott\"}),'개')"
   ]
  },
  {
   "cell_type": "code",
   "execution_count": null,
   "id": "afc2b69c",
   "metadata": {},
   "outputs": [],
   "source": [
    "print('-- age 가 32 인 document 들의 개수 --')\n",
    "print(collection_test.count_documents({\"age\" : 32}),'개')"
   ]
  },
  {
   "cell_type": "markdown",
   "id": "7b4b380d",
   "metadata": {},
   "source": [
    "### list 와 dictionary 를 사용해서 insert 하기"
   ]
  },
  {
   "cell_type": "code",
   "execution_count": null,
   "id": "ad158396",
   "metadata": {},
   "outputs": [],
   "source": [
    "collection_test.insert_one(\n",
    "    {\n",
    "        \"title\":\"오징어게임\",\n",
    "        \"castings\" : [\"이정재\", \"공유\", \"이병헌\"]\n",
    "    }\n",
    ")"
   ]
  },
  {
   "cell_type": "code",
   "execution_count": null,
   "id": "7bf175b8",
   "metadata": {},
   "outputs": [],
   "source": [
    "collection_test.insert_one(\n",
    "    {\n",
    "        \"title\" : \"오징어게임\",\n",
    "        \"castings\" : [\"이정재\", \"공유\", \"이병헌\"],\n",
    "        \"datetime\": \n",
    "        {\n",
    "            \"year\" : \"2021\",\n",
    "            \"month\" : 9,\n",
    "            \"letter\" : \n",
    "            {\n",
    "                \"a\":\n",
    "                {\n",
    "                    \"b\":111\n",
    "                }\n",
    "            }\n",
    "        }  \n",
    "    }\n",
    ")"
   ]
  },
  {
   "cell_type": "markdown",
   "id": "827a65dd",
   "metadata": {},
   "source": [
    "### 비어있는  list 를 생성해서 dictionary 를 append 하기"
   ]
  },
  {
   "cell_type": "code",
   "execution_count": null,
   "id": "93fb1d93",
   "metadata": {},
   "outputs": [],
   "source": [
    "'''\n",
    "list 를 생성해서\n",
    "insert_many() 메소드의 argument 로 지정하기\n",
    "collection_test.insert_many(data)\n",
    "'''\n",
    "\n",
    "data = list()\n",
    "# data = []\n",
    "data.append({\"name\":\"bob\", \"age\":25})\n",
    "data.append({\"name\":\"david\", \"age\":32})\n",
    "data.append({\"name\":\"mueller\", \"age\":21})\n",
    "data.append({\"name\":\"fox\", \"age\":29})\n",
    "data.append({\"name\":\"erick\", \"age\":24})\n",
    "data.append({\"name\":\"chan\", \"age\":35})\n",
    "data.append({\"name\":\"jack\"})\n",
    "\n",
    "print('-- data --')\n",
    "print(data)\n",
    "print('-' * 60)\n",
    "\n",
    "import pprint\n",
    "pprint.pprint(data)"
   ]
  },
  {
   "cell_type": "code",
   "execution_count": null,
   "id": "8709109f",
   "metadata": {},
   "outputs": [],
   "source": [
    "collection_test.insert_many(data)"
   ]
  },
  {
   "cell_type": "markdown",
   "id": "65942feb",
   "metadata": {},
   "source": [
    "### for 문을 사용해서 여러 개의 document 추가하기"
   ]
  },
  {
   "cell_type": "code",
   "execution_count": null,
   "id": "a7e681e0",
   "metadata": {},
   "outputs": [],
   "source": [
    "result = collection_test.insert_many(\n",
    "                [\n",
    "                    {\"number\": idx} for idx in range(10)\n",
    "                ]\n",
    "            )\n",
    "print('-- result --')\n",
    "print(result)"
   ]
  },
  {
   "cell_type": "markdown",
   "id": "510ec379",
   "metadata": {},
   "source": [
    "### document 검색(조회)하기 : find_one() / find()\n",
    "- find_one() 메소드 : 가장 빨리 검색되는 document 하나를 조회함"
   ]
  },
  {
   "cell_type": "code",
   "execution_count": null,
   "id": "0c523fe0",
   "metadata": {},
   "outputs": [],
   "source": [
    "collection_test.find_one()"
   ]
  },
  {
   "cell_type": "code",
   "execution_count": null,
   "id": "82b3fea3",
   "metadata": {},
   "outputs": [],
   "source": [
    "'''\n",
    "author 가 Scott 인 document 조회하기\n",
    "'''\n",
    "collection_test.find_one({\"author\":\"Scott\"})"
   ]
  },
  {
   "cell_type": "code",
   "execution_count": null,
   "id": "14adeaab",
   "metadata": {},
   "outputs": [],
   "source": [
    "'''\n",
    "age 가 32 인 document 조회하기\n",
    "'''\n",
    "collection_test.find_one({\"age\":32})"
   ]
  },
  {
   "cell_type": "code",
   "execution_count": null,
   "id": "6487a7b3",
   "metadata": {},
   "outputs": [],
   "source": [
    "'''\n",
    "collection_test 컬렉션에 있는 모든 document 조회하기\n",
    "'''\n",
    "documents = collection_test.find()\n",
    "for document in documents:\n",
    "    print(document)"
   ]
  },
  {
   "cell_type": "code",
   "execution_count": null,
   "id": "db0dece8",
   "metadata": {},
   "outputs": [],
   "source": [
    "print('-- 현재 collection_test 컬렉션에 있는 모든 document 의 개수 --')\n",
    "print(collection_test.count_documents({}),'개')"
   ]
  },
  {
   "cell_type": "markdown",
   "id": "8b4d689b",
   "metadata": {},
   "source": [
    "### 정렬하기 : sort() 메소드"
   ]
  },
  {
   "cell_type": "code",
   "execution_count": null,
   "id": "1f053ffb",
   "metadata": {},
   "outputs": [],
   "source": [
    "'''\n",
    "collection_test 컬렉션에 있는 document 들을 \n",
    "age 를 기준으로 정렬해서 출력하기\n",
    "sort() 메소드의 argument 로 정렬 기준이 되는 key를 문자열로 넣어줌\n",
    "'''\n",
    "for document in collection_test.find().sort(\"age\"):\n",
    "    print(document)"
   ]
  },
  {
   "cell_type": "markdown",
   "id": "914291ca",
   "metadata": {},
   "source": [
    "### document 수정하기 : update_one() / update_many()\n",
    "- update_one() : 가장 먼저 검색되는 document 하나만 수정함"
   ]
  },
  {
   "cell_type": "code",
   "execution_count": null,
   "id": "544aab2a",
   "metadata": {},
   "outputs": [],
   "source": [
    "collection_test.find_one({\"author\":\"John\"})"
   ]
  },
  {
   "cell_type": "code",
   "execution_count": null,
   "id": "240a8ab7",
   "metadata": {},
   "outputs": [],
   "source": [
    "collection_test.update_one(\n",
    "    {\"author\":\"John\"},\n",
    "    {\"$set\":{\"text\":\"second posting\"}}\n",
    ")"
   ]
  },
  {
   "cell_type": "code",
   "execution_count": null,
   "id": "b5111dd7",
   "metadata": {},
   "outputs": [],
   "source": [
    "collection_test.find_one({\"author\":\"John\"})"
   ]
  },
  {
   "cell_type": "markdown",
   "id": "5294fc42",
   "metadata": {},
   "source": [
    "### document 에 새로운 key 추가하기"
   ]
  },
  {
   "cell_type": "code",
   "execution_count": null,
   "id": "f3e69f19",
   "metadata": {},
   "outputs": [],
   "source": [
    "collection_test.find_one({\"author\":\"Paul\"})"
   ]
  },
  {
   "cell_type": "code",
   "execution_count": null,
   "id": "6428540e",
   "metadata": {},
   "outputs": [],
   "source": [
    "collection_test.update_one(\n",
    "    {\"author\":\"Paul\"},\n",
    "    {\"$set\":{\"text\":\"third posting\"}}\n",
    ")"
   ]
  },
  {
   "cell_type": "code",
   "execution_count": null,
   "id": "5bd105a8",
   "metadata": {},
   "outputs": [],
   "source": [
    "collection_test.find_one({\"author\":\"Paul\"})"
   ]
  },
  {
   "cell_type": "markdown",
   "id": "157f227a",
   "metadata": {},
   "source": [
    "- update_many()"
   ]
  },
  {
   "cell_type": "code",
   "execution_count": null,
   "id": "184eeb29",
   "metadata": {},
   "outputs": [],
   "source": [
    "documents = collection_test.find({\"author\":\"Tom\"})\n",
    "for document in documents:\n",
    "    print(document)"
   ]
  },
  {
   "cell_type": "code",
   "execution_count": null,
   "id": "1b3cb9cc",
   "metadata": {},
   "outputs": [],
   "source": [
    "collection_test.insert_one(\n",
    "    {\n",
    "        \"author\":\"Tom\",\n",
    "        \"text\"  : \"tom posting\",\n",
    "        \"tags\"  : [\"mongoDB\", \"crawling\", \"machinelearning\"]\n",
    "    }\n",
    ")"
   ]
  },
  {
   "cell_type": "code",
   "execution_count": null,
   "id": "4730b3c1",
   "metadata": {},
   "outputs": [],
   "source": [
    "documents = collection_test.find({\"author\":\"Tom\"})\n",
    "for document in documents:\n",
    "    print(document)"
   ]
  },
  {
   "cell_type": "code",
   "execution_count": null,
   "id": "9988f019",
   "metadata": {},
   "outputs": [],
   "source": [
    "collection_test.update_one(\n",
    "    {\"text\":\"tom posting\"},\n",
    "    {\"$set\":{\"age\":25}}\n",
    ")"
   ]
  },
  {
   "cell_type": "code",
   "execution_count": null,
   "id": "4283c7d4",
   "metadata": {},
   "outputs": [],
   "source": [
    "documents = collection_test.find({\"author\":\"Tom\"})\n",
    "for document in documents:\n",
    "    print(document)"
   ]
  },
  {
   "cell_type": "code",
   "execution_count": null,
   "id": "dc571480",
   "metadata": {},
   "outputs": [],
   "source": [
    "collection_test.update_one(\n",
    "    {\"author\":\"Tom\"},\n",
    "    {\"$set\" : {\"age\":38}}\n",
    ")"
   ]
  },
  {
   "cell_type": "code",
   "execution_count": null,
   "id": "d13c6fb0",
   "metadata": {},
   "outputs": [],
   "source": [
    "documents = collection_test.find({\"author\":\"Tom\"})\n",
    "for document in documents:\n",
    "    print(document)"
   ]
  },
  {
   "cell_type": "code",
   "execution_count": null,
   "id": "3fd2d0c8",
   "metadata": {},
   "outputs": [],
   "source": [
    "collection_test.update_many(\n",
    "    {\"author\":\"Tom\"},\n",
    "    {\"$set\":{\"age\":47}}\n",
    ")"
   ]
  },
  {
   "cell_type": "code",
   "execution_count": null,
   "id": "3a27556a",
   "metadata": {},
   "outputs": [],
   "source": [
    "documents = collection_test.find({\"author\":\"Tom\"})\n",
    "for document in documents:\n",
    "    print(document)"
   ]
  },
  {
   "cell_type": "code",
   "execution_count": null,
   "id": "438c899b",
   "metadata": {},
   "outputs": [],
   "source": [
    "documents = collection_test.find({})\n",
    "for document in documents:\n",
    "    print(document)"
   ]
  },
  {
   "cell_type": "markdown",
   "id": "f0293bcc",
   "metadata": {},
   "source": [
    "### document 삭제하기 : delete_one() / delete_many()"
   ]
  },
  {
   "cell_type": "code",
   "execution_count": null,
   "id": "1c40e64b",
   "metadata": {},
   "outputs": [],
   "source": [
    "collection_test.delete_one({\"name\":\"david\"})"
   ]
  },
  {
   "cell_type": "code",
   "execution_count": null,
   "id": "96be44c5",
   "metadata": {},
   "outputs": [],
   "source": [
    "documents = collection_test.find({})\n",
    "for document in documents:\n",
    "    print(document)"
   ]
  },
  {
   "cell_type": "code",
   "execution_count": null,
   "id": "adc97769",
   "metadata": {},
   "outputs": [],
   "source": [
    "collection_test.delete_many({\"name\":\"mueller\"})"
   ]
  },
  {
   "cell_type": "code",
   "execution_count": null,
   "id": "6ae90a95",
   "metadata": {},
   "outputs": [],
   "source": [
    "documents = collection_test.find({})\n",
    "for document in documents:\n",
    "    print(document)"
   ]
  },
  {
   "cell_type": "code",
   "execution_count": 65,
   "id": "ad1aa49d",
   "metadata": {},
   "outputs": [
    {
     "data": {
      "text/plain": [
       "<pymongo.cursor.Cursor at 0x23c9f0aadf0>"
      ]
     },
     "execution_count": 65,
     "metadata": {},
     "output_type": "execute_result"
    }
   ],
   "source": [
    "collection_test.find({\"name\":\"mueller\"})"
   ]
  },
  {
   "cell_type": "code",
   "execution_count": 66,
   "id": "723db4db",
   "metadata": {},
   "outputs": [],
   "source": [
    "collection_test.find_one({\"name\":\"mueller\"})"
   ]
  },
  {
   "cell_type": "code",
   "execution_count": 67,
   "id": "555f0966",
   "metadata": {},
   "outputs": [
    {
     "data": {
      "text/plain": [
       "0"
      ]
     },
     "execution_count": 67,
     "metadata": {},
     "output_type": "execute_result"
    }
   ],
   "source": [
    "collection_test.count_documents({\"name\":\"mueller\"})"
   ]
  }
 ],
 "metadata": {
  "kernelspec": {
   "display_name": "Python 3.10.6 64-bit",
   "language": "python",
   "name": "python3"
  },
  "language_info": {
   "codemirror_mode": {
    "name": "ipython",
    "version": 3
   },
   "file_extension": ".py",
   "mimetype": "text/x-python",
   "name": "python",
   "nbconvert_exporter": "python",
   "pygments_lexer": "ipython3",
   "version": "3.10.6"
  },
  "vscode": {
   "interpreter": {
    "hash": "369f2c481f4da34e4445cda3fffd2e751bd1c4d706f27375911949ba6bb62e1c"
   }
  }
 },
 "nbformat": 4,
 "nbformat_minor": 5
}
