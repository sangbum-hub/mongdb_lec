{
 "cells": [
  {
   "cell_type": "code",
   "execution_count": null,
   "id": "d9eba71d",
   "metadata": {},
   "outputs": [],
   "source": [
    "import pymongo"
   ]
  },
  {
   "cell_type": "code",
   "execution_count": null,
   "id": "1171c178",
   "metadata": {},
   "outputs": [],
   "source": [
    "# MongoDB 연결하기\n",
    "conn = pymongo.MongoClient()\n",
    "print('conn :',conn)"
   ]
  },
  {
   "cell_type": "code",
   "execution_count": null,
   "id": "9b8af8e5",
   "metadata": {},
   "outputs": [],
   "source": [
    "# Database 생성하기\n",
    "books = conn.books\n",
    "print(books)"
   ]
  },
  {
   "cell_type": "code",
   "execution_count": null,
   "id": "6adff364",
   "metadata": {},
   "outputs": [],
   "source": [
    "# Collection 생성하기\n",
    "collection_books = books.collection_books\n",
    "print(collection_books)"
   ]
  },
  {
   "cell_type": "code",
   "execution_count": null,
   "id": "2119c893",
   "metadata": {},
   "outputs": [],
   "source": [
    "data = []\n",
    "for idx in range(100):\n",
    "    data.append({\"author\":\"이순신\",\"publisher\":\"conet\", \"number\":idx})"
   ]
  },
  {
   "cell_type": "code",
   "execution_count": null,
   "id": "93fd7c7f",
   "metadata": {},
   "outputs": [],
   "source": [
    "import pprint\n",
    "pprint.pprint(data)"
   ]
  },
  {
   "cell_type": "code",
   "execution_count": null,
   "id": "fc5ba292",
   "metadata": {},
   "outputs": [],
   "source": [
    "'''\n",
    "insert_many() 메소드를 사용해서 data 리스트를 \n",
    "collection_books 컬렉션에 insert 하기\n",
    " ㄴ data 리스트의 item 하나하나(dictionary)가 \n",
    "    collection_books 컬렉션의 document 로 추가됨\n",
    "'''\n",
    "collection_books.insert_many(data)"
   ]
  },
  {
   "cell_type": "code",
   "execution_count": null,
   "id": "b016b30f",
   "metadata": {},
   "outputs": [],
   "source": [
    "'''\n",
    "number 가 9 이상인 document 삭제하기\n",
    "'''\n",
    "collection_books.delete_many({\"number\" : {\"$gt\" : 8}})"
   ]
  },
  {
   "cell_type": "code",
   "execution_count": null,
   "id": "6825c5ad",
   "metadata": {},
   "outputs": [],
   "source": [
    "for document in collection_books.find():\n",
    "    pprint.pprint(document)"
   ]
  },
  {
   "cell_type": "code",
   "execution_count": null,
   "id": "6acb8789",
   "metadata": {},
   "outputs": [],
   "source": [
    "'''\n",
    "현재, publisher 가 conet 으로 되어있는데\n",
    "      publisher 를 DMC 로 변경하기\n",
    "'''\n",
    "collection_books.update_many({}, {\"$set\":{\"publisher\":\"DMC\"}})"
   ]
  },
  {
   "cell_type": "code",
   "execution_count": null,
   "id": "428d1bf7",
   "metadata": {},
   "outputs": [],
   "source": [
    "for document in collection_books.find():\n",
    "    pprint.pprint(document)"
   ]
  },
  {
   "cell_type": "code",
   "execution_count": null,
   "id": "e6b26acb",
   "metadata": {},
   "outputs": [],
   "source": []
  }
 ],
 "metadata": {
  "kernelspec": {
   "display_name": "Python 3 (ipykernel)",
   "language": "python",
   "name": "python3"
  },
  "language_info": {
   "codemirror_mode": {
    "name": "ipython",
    "version": 3
   },
   "file_extension": ".py",
   "mimetype": "text/x-python",
   "name": "python",
   "nbconvert_exporter": "python",
   "pygments_lexer": "ipython3",
   "version": "3.9.12"
  }
 },
 "nbformat": 4,
 "nbformat_minor": 5
}
